{
 "cells": [
  {
   "cell_type": "markdown",
   "metadata": {},
   "source": [
    "## 講解notebook的操作\n",
    "\n",
    "- 檔案名稱\n",
    "- 介紹這是code cell\n",
    "- 執行cell\n",
    "    - shift+Enter: 執行，並移動到下一個cell\n",
    "    - alt+Enter: 執行，並創造一個新的cell在下方，並移動到新的cell\n",
    "    - ctrl+Enter: 執行，並停在這個cell\n",
    "    \n",
    "- 儲存檔案並關閉\n",
    "    - save: icon, ctrl+s\n",
    "    - save and checkpoint: file→save and checkpoint\n",
    "    - halt: file→close and halt, 從main page的running標籤關閉\n",
    "    \n",
    "- introduce the anaconda prompt: 也可以從這裡開啟jupyter notebook\n",
    "- open jupyter notebook:\n",
    "    - Anaconda\n",
    "    - anaconda prompt\n",
    "    - cmd"
   ]
  }
 ],
 "metadata": {
  "kernelspec": {
   "display_name": "Python 3",
   "language": "python",
   "name": "python3"
  },
  "language_info": {
   "codemirror_mode": {
    "name": "ipython",
    "version": 3
   },
   "file_extension": ".py",
   "mimetype": "text/x-python",
   "name": "python",
   "nbconvert_exporter": "python",
   "pygments_lexer": "ipython3",
   "version": "3.6.5"
  }
 },
 "nbformat": 4,
 "nbformat_minor": 2
}
