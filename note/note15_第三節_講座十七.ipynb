{
 "cells": [
  {
   "cell_type": "markdown",
   "metadata": {},
   "source": [
    "# Introduction & Hints\n",
    "## Coding Exercises\n",
    "\n",
    "---\n",
    "教導怎麼下載 GroupBy Materials.zip  \n",
    "以及如何解壓縮\n",
    "\n",
    "---\n",
    "如果當初是安裝Anaconda，講者有教學可以把 unzip 的資料集放在哪裡，如此一來就可以預設開啟!!\n",
    "\n",
    "---\n",
    "Coding Exercises中有分成 Beginner, Intermediate, Expert level  \n",
    "總之就是要把 --- 的地方補齊，可能是number, variables  \n",
    "level越高，要填空的地方就越多\n",
    "\n",
    "---\n",
    "關於解答，可以看solution video，或是solution notebook"
   ]
  },
  {
   "cell_type": "code",
   "execution_count": null,
   "metadata": {},
   "outputs": [],
   "source": []
  }
 ],
 "metadata": {
  "kernelspec": {
   "display_name": "Python 3",
   "language": "python",
   "name": "python3"
  },
  "language_info": {
   "codemirror_mode": {
    "name": "ipython",
    "version": 3
   },
   "file_extension": ".py",
   "mimetype": "text/x-python",
   "name": "python",
   "nbconvert_exporter": "python",
   "pygments_lexer": "ipython3",
   "version": "3.6.5"
  }
 },
 "nbformat": 4,
 "nbformat_minor": 2
}
