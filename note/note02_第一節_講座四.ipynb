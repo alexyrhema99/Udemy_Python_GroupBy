{
 "cells": [
  {
   "cell_type": "markdown",
   "metadata": {},
   "source": [
    "# 介紹cell的一些轉換與操作\n",
    "- markdown格式: m\n",
    "- 箭頭↑↓: move selected cell up/down\n",
    "\n",
    "\n",
    "- code格式: y, edit mode與command mode的轉換(enter與Esc)\n",
    "- a, b, dd: 上面新增cell, 下面新增cell, 刪除cell\n",
    "\n",
    "\n",
    "- keybroad shortcut: Help→keybroad shortcuts, h\n",
    "- Edit keybroad shortcuts: close and halt，我設定為Ctrl+H\n",
    "\n",
    "\n",
    "- 善用cell旁邊的In [#]編號，可以幫助找回變數設定的值\n",
    "- restart and clean the output, restart and run all"
   ]
  }
 ],
 "metadata": {
  "kernelspec": {
   "display_name": "Python 3",
   "language": "python",
   "name": "python3"
  },
  "language_info": {
   "codemirror_mode": {
    "name": "ipython",
    "version": 3
   },
   "file_extension": ".py",
   "mimetype": "text/x-python",
   "name": "python",
   "nbconvert_exporter": "python",
   "pygments_lexer": "ipython3",
   "version": "3.6.5"
  }
 },
 "nbformat": 4,
 "nbformat_minor": 2
}
