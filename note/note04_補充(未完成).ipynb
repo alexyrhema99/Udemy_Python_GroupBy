{
 "cells": [
  {
   "cell_type": "markdown",
   "metadata": {},
   "source": [
    "# 有關iloc, loc, ix\n",
    "\n",
    "note04中有提到這三個函式的功能  \n",
    "所以在這邊多查了三篇教學文章  \n",
    "做進一步的練習與實作\n",
    "\n",
    "---\n",
    "參考文章  \n",
    "01: [Pandas 中ix、loc、iloc的區別用法](https://zhuxin.tech/2018/02/04/Pandas%20%E4%B8%AD%20ix%E3%80%81loc%E3%80%81iloc%E7%9A%84%E5%8C%BA%E5%88%AB%E7%94%A8%E6%B3%95/)  \n",
    "02: [python pandas 中 loc & iloc 用法區別](https://codertw.com/%E7%A8%8B%E5%BC%8F%E8%AA%9E%E8%A8%80/462517/)  \n",
    "03: [Pandas 選擇數據](https://morvanzhou.github.io/tutorials/data-manipulation/np-pd/3-2-pd-indexing/)  \n",
    "04: [python選取特定列——pandas的iloc和loc以及icol使用(列切片及行切片)](https://blog.csdn.net/chenKFKevin/article/details/62049060)  \n",
    "\n"
   ]
  },
  {
   "cell_type": "markdown",
   "metadata": {},
   "source": [
    "---\n",
    "\n",
    "## 01: Pandas 中ix、loc、iloc的區別用法\n",
    "\n",
    "主要講的是Pandas 中ix、loc、iloc 的區別用法。\n",
    "\n",
    "\n",
    "## 簡單解釋\n",
    "- loc：從索引獲取具有特定**標籤**的列（或行），可以通過列(行)號和列index(行標籤)\n",
    "- iloc：從索引獲取特定**位置**的列（或行），所以它只需要整數也就是列(行)號!!\n",
    "- ix：通常會像loc一樣行為，但是如果索引中不存在標籤，則會回到像iloc一樣的行為"
   ]
  },
  {
   "cell_type": "code",
   "execution_count": null,
   "metadata": {},
   "outputs": [],
   "source": []
  },
  {
   "cell_type": "code",
   "execution_count": null,
   "metadata": {},
   "outputs": [],
   "source": []
  },
  {
   "cell_type": "code",
   "execution_count": null,
   "metadata": {},
   "outputs": [],
   "source": []
  },
  {
   "cell_type": "code",
   "execution_count": null,
   "metadata": {},
   "outputs": [],
   "source": []
  },
  {
   "cell_type": "code",
   "execution_count": null,
   "metadata": {},
   "outputs": [],
   "source": []
  },
  {
   "cell_type": "code",
   "execution_count": null,
   "metadata": {},
   "outputs": [],
   "source": []
  }
 ],
 "metadata": {
  "kernelspec": {
   "display_name": "Python 3",
   "language": "python",
   "name": "python3"
  },
  "language_info": {
   "codemirror_mode": {
    "name": "ipython",
    "version": 3
   },
   "file_extension": ".py",
   "mimetype": "text/x-python",
   "name": "python",
   "nbconvert_exporter": "python",
   "pygments_lexer": "ipython3",
   "version": "3.6.5"
  }
 },
 "nbformat": 4,
 "nbformat_minor": 2
}
